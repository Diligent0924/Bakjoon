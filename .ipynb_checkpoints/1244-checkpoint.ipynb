{
 "cells": [
  {
   "cell_type": "code",
   "execution_count": 73,
   "id": "8fdb3181",
   "metadata": {},
   "outputs": [
    {
     "name": "stdout",
     "output_type": "stream",
     "text": [
      "21\n",
      "0 1 1 1 1 1 1 1 1 1 1 1 1 1 1 1 1 1 1 1 1 1 1 1 1 1 1 1 1 1 1 1 1 1 1 1\n",
      "2\n",
      "1 3\n",
      "2 3\n",
      "0 0 1 0 1 0 1 1 0 1 1 0 1 1 0 1 1 0 1 1\n",
      "0 1 1 0 1 1 0 1 1 0 1 1 0 1 1 0 "
     ]
    }
   ],
   "source": [
    "# 배운점 : 구현 능력이 조금 더 필요함 => 대분류, 중분류 식으로 쪼개서 들어갈 필요가 있음\n",
    "# 펠린드롬을 python 내장함수 없이 하려니 힘들었음 => right,left로 하나씩 증가시키면서 추가 필요\n",
    "# 스위치와 같이 1,0으로 나누는 경우에는 True, False로 변경하는 것도 좋은 방법이다.\n",
    "# 구현하고자 하는 바가 명확하고 오류가 없다면 앞으로 나아가는 것이 중요하다.\n",
    "N = int(input())\n",
    "switch = list(map(int, input().split()))\n",
    "switch = list(map(lambda x: True if x == 1 else False, switch))\n",
    "number = int(input())\n",
    "for i in range(number):\n",
    "    gender, point = map(int, input().split())\n",
    "    #남자일 경우 => point * n의 스위치만 바꾼다.\n",
    "    if gender == 1:\n",
    "        count = 1\n",
    "        while True:\n",
    "            switch[point * count -1] = not switch[point * count -1]\n",
    "            count+=1\n",
    "            if point*count > len(switch):\n",
    "                break\n",
    "    else:\n",
    "        # 해당 길을 가운데로 판단하고 양옆으로 하나씩 증가시켜 팰린드롬 확인 (1, 3, 5, 7)\n",
    "        switch[point-1] = not switch[point-1]\n",
    "        left, right = 1,1\n",
    "        while True:\n",
    "            if ((point-1-left) == -1 or (point+right-1) == len(switch)):\n",
    "                break\n",
    "            if switch[point-1-left:point+right] == switch[point-1-left:point+right][::-1]:\n",
    "                switch[point-1-left] = not switch[point-1-left]\n",
    "                switch[point+right-1] = not switch[point+right-1]\n",
    "                left += 1\n",
    "                right += 1\n",
    "            else:\n",
    "                break\n",
    "                \n",
    "\n",
    "result = list(map(lambda x: 1 if x == True else 0, switch))\n",
    "for i, v in enumerate(result):\n",
    "    if (i+1) % 20 == 0:\n",
    "        print(v)\n",
    "    else:\n",
    "        print(v, end=\" \")"
   ]
  },
  {
   "cell_type": "code",
   "execution_count": 10,
   "id": "5604e386",
   "metadata": {},
   "outputs": [
    {
     "data": {
      "text/plain": [
       "[False, True, False, True, False, False, False, True]"
      ]
     },
     "execution_count": 10,
     "metadata": {},
     "output_type": "execute_result"
    }
   ],
   "source": [
    "#a = int(input())\n",
    "#b = [map(int, input().split())]\n",
    "#c = int(input())\n",
    "#for i in range(c):\n",
    "# e,f = map(int, input().split())\n",
    "a, b, c = 8, [0,1,0,1,0,0,0,1],2\n",
    "d = [[1,3],[2,3]]\n",
    "b = list(map(lambda x: True if x == 1 else False, b))\n",
    "for i in range(c):\n",
    "    e,f = d[i][0], d[i][1]\n",
    "    if e == 1:\n",
    "        # 3의 배수 스위치만 바꾼다.\n",
    "        count = 1\n",
    "        while True:\n",
    "            b[f * count -1] = not b[f * count -1]\n",
    "            count+=1\n",
    "            if f*count > len(b):\n",
    "                break\n",
    "        print(b)\n",
    "    else:\n",
    "        # 해당 길을 가운데로 판단하고 양옆으로 하나씩 증가시켜 팰린드롬 확인 (1, 3, 5, 7)\n",
    "        b[f-1] = not b[f-1]\n",
    "        left, right = 1,1\n",
    "        print(b)\n",
    "        while True:\n",
    "            if ((f-1-left) == -1 or (f+right-1) == len(b)):\n",
    "                break\n",
    "            if b[f-1-left:f+right] == b[f-1-left:f+right][::-1]:\n",
    "                print(1)\n",
    "                b[f-1-left] = not b[f-1-left]\n",
    "                b[f+right-1] = not b[f+right-1]\n",
    "                left += 1\n",
    "                right += 1\n",
    "            else:\n",
    "                break\n",
    "print(b)\n",
    "        "
   ]
  },
  {
   "cell_type": "code",
   "execution_count": 14,
   "id": "c02896b8",
   "metadata": {},
   "outputs": [
    {
     "data": {
      "text/plain": [
       "[0, 0, 1, 0]"
      ]
     },
     "execution_count": 14,
     "metadata": {},
     "output_type": "execute_result"
    }
   ],
   "source": [
    "# f-2 ~ f+1\n",
    "# f-3 ~ f+2\n",
    "a = [0,1,0,0,1]\n",
    "a[:4][::-1]"
   ]
  },
  {
   "cell_type": "code",
   "execution_count": 44,
   "id": "ae3c545b",
   "metadata": {},
   "outputs": [
    {
     "name": "stdout",
     "output_type": "stream",
     "text": [
      "[True, False, True]\n",
      "[True, False, True]\n",
      "True\n"
     ]
    }
   ],
   "source": [
    "km = b[f-2:f+1]\n",
    "kn = b[f-2:f+1][::-1]\n",
    "print(b[f-2:f+1])\n",
    "print(b[f-2:f+1][::-1])\n",
    "if km == kn:\n",
    "    print(True)\n",
    "else:\n",
    "    print(False)"
   ]
  },
  {
   "cell_type": "code",
   "execution_count": 79,
   "id": "df4190f0",
   "metadata": {},
   "outputs": [
    {
     "name": "stdout",
     "output_type": "stream",
     "text": [
      "\n",
      "1\n"
     ]
    }
   ],
   "source": [
    "print('\\n', end='')\n",
    "print(1)"
   ]
  }
 ],
 "metadata": {
  "kernelspec": {
   "display_name": "Python 3 (ipykernel)",
   "language": "python",
   "name": "python3"
  },
  "language_info": {
   "codemirror_mode": {
    "name": "ipython",
    "version": 3
   },
   "file_extension": ".py",
   "mimetype": "text/x-python",
   "name": "python",
   "nbconvert_exporter": "python",
   "pygments_lexer": "ipython3",
   "version": "3.9.7"
  }
 },
 "nbformat": 4,
 "nbformat_minor": 5
}
